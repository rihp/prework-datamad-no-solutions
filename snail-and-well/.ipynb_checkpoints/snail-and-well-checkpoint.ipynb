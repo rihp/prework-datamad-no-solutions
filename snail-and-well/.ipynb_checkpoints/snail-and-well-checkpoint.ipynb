{
 "cells": [
  {
   "cell_type": "markdown",
   "metadata": {},
   "source": [
    "# Snail and well\n",
    "\n",
    "A snail falls at the bottom of a 125 cm well. Each day the snail rises 30 cm. But at night, while sleeping, slides 20 cm because the walls are wet. How many days does it take to escape from the well?\n",
    "\n",
    "TIP: http://puzzles.nigelcoldwell.co.uk/sixtytwo.htm"
   ]
  },
  {
   "cell_type": "markdown",
   "metadata": {},
   "source": [
    "## Solución"
   ]
  },
  {
   "cell_type": "code",
   "execution_count": 7,
   "metadata": {},
   "outputs": [
    {
     "name": "stdout",
     "output_type": "stream",
     "text": [
      "Snail starts to go up the well. ch =  0\n",
      "by the end of day 1 ch = 30\n",
      "and then at night, the snail returns to ch =  10\n",
      "on day 2 , the ch is  40\n",
      "and then at night, the snail returns to ch =  20\n",
      "on day 3 , the ch is  50\n",
      "and then at night, the snail returns to ch =  30\n",
      "on day 4 , the ch is  60\n",
      "and then at night, the snail returns to ch =  40\n",
      "on day 5 , the ch is  70\n",
      "and then at night, the snail returns to ch =  50\n",
      "on day 6 , the ch is  80\n",
      "and then at night, the snail returns to ch =  60\n",
      "on day 7 , the ch is  90\n",
      "and then at night, the snail returns to ch =  70\n",
      "on day 8 , the ch is  100\n",
      "and then at night, the snail returns to ch =  80\n",
      "on day 9 , the ch is  110\n",
      "and then at night, the snail returns to ch =  90\n",
      "on day 10 , the ch is  120\n",
      "and then at night, the snail returns to ch =  100\n",
      "on day 11 , the ch is  130\n",
      "Snail escaped well at day number  11\n"
     ]
    }
   ],
   "source": [
    "# Assign problem data to variables with representative names\n",
    "# well height, daily advance, night retreat, accumulated distance\n",
    "\n",
    "height = 125\n",
    "day_rise = 30\n",
    "night_fall = 20\n",
    "ch = 0\n",
    "\n",
    "# Assign 0 to the variable that represents the solution\n",
    "\n",
    "day_count = 0\n",
    "\n",
    "# Write the code that solves the problem\n",
    "\n",
    "while ch < height:\n",
    "    if ch == 0:\n",
    "        print(\"Snail starts to go up the well. ch = \", ch)\n",
    "        ch += day_rise\n",
    "        day_count += 1\n",
    "        print(\"by the end of day\", day_count, \"ch =\", ch)\n",
    "        ch -= night_fall \n",
    "        print(\"and then at night, the snail returns to ch = \", ch)\n",
    "              \n",
    "    else:\n",
    "        ch += day_rise\n",
    "        day_count += 1\n",
    "         \n",
    "        print(\"on day\", day_count, \", the ch is \", ch)\n",
    "        \n",
    "        if ch > height:\n",
    "            break\n",
    "        \n",
    "        ch -= night_fall\n",
    "        print(\"and then at night, the snail returns to ch = \", ch)\n",
    "\n",
    "\n",
    "    \n",
    "# Print the result with print('Days =', days)\n",
    "\n",
    "print(\"Snail escaped well at day number \", day_count)"
   ]
  },
  {
   "cell_type": "markdown",
   "metadata": {},
   "source": [
    "**Expected output**: \n",
    "```\n",
    "Days = 11\n",
    "```"
   ]
  },
  {
   "cell_type": "markdown",
   "metadata": {},
   "source": [
    "## Goals\n",
    "\n",
    "1. Treatment of variables\n",
    "2. Use of loop **while**\n",
    "3. Use of conditional **if-else**\n",
    "4. Print in console"
   ]
  },
  {
   "cell_type": "markdown",
   "metadata": {},
   "source": [
    "## Bonus\n",
    "The distance traveled by the snail is now defined by a list.\n",
    "```\n",
    "advance_cm = [30, 21, 33, 77, 44, 45, 23, 45, 12, 34, 55]\n",
    "```\n",
    "How long does it take to raise the well?\n",
    "\n",
    "What is its maximum displacement in one day? And its minimum?\n",
    "\n",
    "What is its average speed during the day?\n",
    "\n",
    "What is the standard deviation of its displacement during the day?"
   ]
  },
  {
   "cell_type": "code",
   "execution_count": null,
   "metadata": {},
   "outputs": [],
   "source": [
    "# Assign problem data to variables with representative names\n",
    "# well height, daily advance, night retreat, accumulated distance\n",
    "\n",
    "\n",
    "# Assign 0 to the variable that represents the solution\n",
    "\n",
    "\n",
    "# Write the code that solves the problem\n",
    "\n",
    "\n",
    "\n",
    "# Print the result with print('Days =', days)\n"
   ]
  },
  {
   "cell_type": "markdown",
   "metadata": {},
   "source": [
    "**Expected output**: \n",
    "```\n",
    "Days = 6\n",
    "```"
   ]
  },
  {
   "cell_type": "code",
   "execution_count": null,
   "metadata": {},
   "outputs": [],
   "source": [
    "# What is its maximum displacement in a day? And its minimum?\n"
   ]
  },
  {
   "cell_type": "markdown",
   "metadata": {},
   "source": [
    "**Expected output**: \n",
    "```\n",
    "77 12\n",
    "```"
   ]
  },
  {
   "cell_type": "code",
   "execution_count": null,
   "metadata": {},
   "outputs": [],
   "source": [
    "# What is its average progress?\n"
   ]
  },
  {
   "cell_type": "markdown",
   "metadata": {},
   "source": [
    "**Expected output**: \n",
    "```\n",
    "38.09090909090909\n",
    "```"
   ]
  },
  {
   "cell_type": "code",
   "execution_count": null,
   "metadata": {},
   "outputs": [],
   "source": [
    "# What is the standard deviation of your displacement during the day?\n"
   ]
  },
  {
   "cell_type": "markdown",
   "metadata": {},
   "source": [
    "**Expected output**: \n",
    "```\n",
    "17.159437082600803\n",
    "```"
   ]
  }
 ],
 "metadata": {
  "kernelspec": {
   "display_name": "Python 3",
   "language": "python",
   "name": "python3"
  },
  "language_info": {
   "codemirror_mode": {
    "name": "ipython",
    "version": 3
   },
   "file_extension": ".py",
   "mimetype": "text/x-python",
   "name": "python",
   "nbconvert_exporter": "python",
   "pygments_lexer": "ipython3",
   "version": "3.8.1"
  }
 },
 "nbformat": 4,
 "nbformat_minor": 2
}
